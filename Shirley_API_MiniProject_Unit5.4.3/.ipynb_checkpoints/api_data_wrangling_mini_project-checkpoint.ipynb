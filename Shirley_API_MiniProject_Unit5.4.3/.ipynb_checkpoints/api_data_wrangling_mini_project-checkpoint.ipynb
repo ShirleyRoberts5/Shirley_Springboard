{
 "cells": [
  {
   "cell_type": "markdown",
   "metadata": {},
   "source": [
    "This exercise will require you to pull some data from the Qunadl API. Qaundl is currently the most widely used aggregator of financial market data."
   ]
  },
  {
   "cell_type": "markdown",
   "metadata": {},
   "source": [
    "As a first step, you will need to register a free account on the http://www.quandl.com website."
   ]
  },
  {
   "cell_type": "markdown",
   "metadata": {},
   "source": [
    "After you register, you will be provided with a unique API key, that you should store:"
   ]
  },
  {
   "cell_type": "code",
   "execution_count": 1,
   "metadata": {},
   "outputs": [],
   "source": [
    "# Store the API key as a string - according to PEP8, constants are always named in all upper case\n",
    "#API_KEY = ''\n",
    "key = open('ignore_quandl_api_key','r')\n",
    "API_KEY=key.readline()"
   ]
  },
  {
   "cell_type": "markdown",
   "metadata": {},
   "source": [
    "Qaundl has a large number of data sources, but, unfortunately, most of them require a Premium subscription. Still, there are also a good number of free datasets."
   ]
  },
  {
   "cell_type": "markdown",
   "metadata": {},
   "source": [
    "For this mini project, we will focus on equities data from the Frankfurt Stock Exhange (FSE), which is available for free. We'll try and analyze the stock prices of a company called Carl Zeiss Meditec, which manufactures tools for eye examinations, as well as medical lasers for laser eye surgery: https://www.zeiss.com/meditec/int/home.html. The company is listed under the stock ticker AFX_X."
   ]
  },
  {
   "cell_type": "markdown",
   "metadata": {},
   "source": [
    "You can find the detailed Quandl API instructions here: https://docs.quandl.com/docs/time-series"
   ]
  },
  {
   "cell_type": "markdown",
   "metadata": {},
   "source": [
    "While there is a dedicated Python package for connecting to the Quandl API, we would prefer that you use the *requests* package, which can be easily downloaded using *pip* or *conda*. You can find the documentation for the package here: http://docs.python-requests.org/en/master/ "
   ]
  },
  {
   "cell_type": "markdown",
   "metadata": {},
   "source": [
    "Finally, apart from the *requests* package, you are encouraged to not use any third party Python packages, such as *pandas*, and instead focus on what's available in the Python Standard Library (the *collections* module might come in handy: https://pymotw.com/3/collections/ ).\n",
    "Also, since you won't have access to DataFrames, you are encouraged to us Python's native data structures - preferably dictionaries, though some questions can also be answered using lists.\n",
    "You can read more on these data structures here: https://docs.python.org/3/tutorial/datastructures.html"
   ]
  },
  {
   "cell_type": "markdown",
   "metadata": {},
   "source": [
    "Keep in mind that the JSON responses you will be getting from the API map almost one-to-one to Python's dictionaries. Unfortunately, they can be very nested, so make sure you read up on indexing dictionaries in the documentation provided above."
   ]
  },
  {
   "cell_type": "markdown",
   "metadata": {},
   "source": [
    "## Imports and understanding the data"
   ]
  },
  {
   "cell_type": "code",
   "execution_count": 2,
   "metadata": {},
   "outputs": [],
   "source": [
    "# First, import the relevant modules\n",
    "import requests\n",
    "\n"
   ]
  },
  {
   "cell_type": "code",
   "execution_count": 3,
   "metadata": {},
   "outputs": [
    {
     "name": "stdout",
     "output_type": "stream",
     "text": [
      "<Response [200]> \n",
      "\n",
      "{\"dataset\":{\"id\":10095370,\"dataset_code\":\"AFX_X\",\"database_code\":\"FSE\",\"name\":\"Carl Zeiss Meditec (AFX_X)\",\"description\":\"Stock Prices for Carl Zeiss Meditec (2020-05-15) from the Frankfurt Stock Exchange.\\u003cbr\\u003e\\u003cbr\\u003eTrading System: Xetra\\u003cbr\\u003e\\u003cbr\\u003eISIN: DE0005313704\",\"refreshed_at\":\"2020-05-29T22:16:21.973Z\",\"newest_available_date\":\"2020-05-29\",\"oldest_available_date\":\"2000-06-07\",\"column_names\":[\"Date\",\"Open\",\"High\",\"Low\",\"Close\",\"Change\",\"Traded Volume\",\"Turnover\",\"Last Price of the Day\",\"Daily Traded Units\",\"Daily Turnover\"],\"frequency\":\"daily\",\"type\":\"Time Series\",\"premium\":false,\"limit\":1,\"transform\":null,\"column_index\":null,\"start_date\":\"2020-05-01\",\"end_date\":\"2020-05-29\",\"data\":[[\"2020-05-29\",91.05,93.1,90.25,92.1,null,238162.0,21887648.1,null,null,null]],\"collapse\":null,\"order\":null,\"database_id\":6129}}\n"
     ]
    }
   ],
   "source": [
    "# Now, call the Quandl API and pull out a small sample of the data (only one day) to get a glimpse\n",
    "# into the JSON structure that will be returned\n",
    "url1 = 'https://www.quandl.com/api/v3/datasets/FSE/AFX_X.json?end_date=2020-05-31&start_date=2020-05-01&limit=1&api_key='+API_KEY\n",
    "r1 = requests.get(url1)\n",
    "\n",
    "print(r1,'\\n')\n",
    "print(r1.text)\n"
   ]
  },
  {
   "cell_type": "code",
   "execution_count": 4,
   "metadata": {},
   "outputs": [
    {
     "name": "stdout",
     "output_type": "stream",
     "text": [
      "================Original Data================\n",
      "['Date', 'Open', 'High', 'Low', 'Close', 'Change', 'Traded Volume', 'Turnover', 'Last Price of the Day', 'Daily Traded Units', 'Daily Turnover'] \n",
      "\n",
      "['2020-05-29', 91.05, 93.1, 90.25, 92.1, None, 238162.0, 21887648.1, None, None, None]\n",
      "['2020-05-28', 88.1, 91.7, 87.4, 91.45, None, 228651.0, 14809122.8, None, None, None]\n",
      "['2020-05-27', 91.0, 91.2, 86.4, 87.3, None, 292506.0, 25754496.6, None, None, None]\n",
      "['2020-05-26', 91.1, 93.35, 89.7, 90.85, None, 295589.0, 27089139.05, None, None, None]\n",
      "['2020-05-25', 88.6, 92.7, 88.1, 92.6, None, 101335.0, 9240143.65, None, None, None]\n",
      "\n",
      "================Data using transform=diff================\n",
      "['Date', 'Open', 'High', 'Low', 'Close', 'Change', 'Traded Volume', 'Turnover', 'Last Price of the Day', 'Daily Traded Units', 'Daily Turnover'] \n",
      "\n",
      "['2020-05-29', 2.95, 1.4, 2.85, 0.64999999999999, None, 9511.0, 7078525.3, None, None, None]\n",
      "['2020-05-28', -2.9, 0.5, 1.0, 4.15, None, -63855.0, -10945373.8, None, None, None]\n",
      "['2020-05-27', -0.099999999999994, -2.15, -3.3, -3.55, None, -3083.0, -1334642.45, None, None, None]\n",
      "['2020-05-26', 2.5, 0.64999999999999, 1.6, -1.75, None, 194254.0, 17848995.4, None, None, None]\n",
      "['2020-05-25', 1.25, 4.2, 2.65, 4.95, None, -69543.0, -5599665.9, None, None, None]\n"
     ]
    }
   ],
   "source": [
    "# Inspect the JSON structure of the object you created, and take note of how nested it is,\n",
    "# as well as the overall structure\n",
    "\n",
    "\n",
    "#There are several keys seen in the dictionary - 'column_names' and 'data' are the most important.\n",
    "#\"data\" key's values seen over 5 days:\n",
    "url2 = 'https://www.quandl.com/api/v3/datasets/FSE/AFX_X.json?end_date=2020-05-31&start_date=2020-05-01&limit=5&api_key='+API_KEY\n",
    "r2 = requests.get(url2)\n",
    "\n",
    "dict2  = r2.json()\n",
    "print('================Original Data================')\n",
    "print(dict2['dataset']['column_names'], '\\n')\n",
    "for lst in dict2['dataset']['data']:\n",
    "    print(lst)\n",
    "\n",
    "    \n",
    "#\"data\" key's values seen over 5 days using transform=diff:\n",
    "url3 = 'https://www.quandl.com/api/v3/datasets/FSE/AFX_X.json?end_date=2020-05-31&start_date=2020-05-01&limit=5&transform=diff&api_key='+API_KEY\n",
    "r3 = requests.get(url3)\n",
    "\n",
    "dict3  = r3.json()\n",
    "print()\n",
    "print('================Data using transform=diff================')\n",
    "print(dict3['dataset']['column_names'], '\\n')\n",
    "for lst in dict3['dataset']['data']:\n",
    "    print(lst)\n",
    "    \n"
   ]
  },
  {
   "cell_type": "markdown",
   "metadata": {},
   "source": [
    "These are your tasks for this mini project:\n",
    "\n",
    "1. Collect data from the Franfurt Stock Exchange, for the ticker AFX_X, for the whole year 2017 (keep in mind that the date format is YYYY-MM-DD).\n",
    "2. Convert the returned JSON object into a Python dictionary.\n",
    "3. Calculate what the highest and lowest opening prices were for the stock in this period.\n",
    "4. What was the largest change in any one day (based on High and Low price)?\n",
    "5. What was the largest change between any two days (based on Closing Price)?\n",
    "6. What was the average daily trading volume during this year?\n",
    "7. (Optional) What was the median trading volume during this year. (Note: you may need to implement your own function for calculating the median.)"
   ]
  },
  {
   "cell_type": "markdown",
   "metadata": {},
   "source": [
    "## Solution 1 - Extracting only AFX_X (i.e. Carl Zeiss) data - for entire 2017"
   ]
  },
  {
   "cell_type": "code",
   "execution_count": 5,
   "metadata": {},
   "outputs": [
    {
     "name": "stdout",
     "output_type": "stream",
     "text": [
      "<Response [200]> \n",
      "\n"
     ]
    }
   ],
   "source": [
    "#SOLUTION TO QUESTION 1 - Carl Zeiss data only - over entire year 2017.\n",
    "\n",
    "url = 'https://www.quandl.com/api/v3/datasets/FSE/AFX_X.json?start_date=2017-01-01&end_date=2017-12-31&api_key='+API_KEY\n",
    "\n",
    "r = requests.get(url)\n",
    "print(r,'\\n')               #Checking valid response; Should be 200s or 300s.\n"
   ]
  },
  {
   "cell_type": "markdown",
   "metadata": {},
   "source": [
    "## Solution 2 - Receiving json output and converting it to dict"
   ]
  },
  {
   "cell_type": "code",
   "execution_count": 6,
   "metadata": {},
   "outputs": [
    {
     "name": "stdout",
     "output_type": "stream",
     "text": [
      "<class 'dict'>\n"
     ]
    }
   ],
   "source": [
    "c_zeiss=r.json()\n",
    "print(type(c_zeiss))"
   ]
  },
  {
   "cell_type": "markdown",
   "metadata": {},
   "source": [
    "## Solution 3 - Finding the highest and lowest opening prices in this period"
   ]
  },
  {
   "cell_type": "code",
   "execution_count": 7,
   "metadata": {},
   "outputs": [
    {
     "name": "stdout",
     "output_type": "stream",
     "text": [
      "Highest Opening price during the period:  53.11\n",
      "Lowest Opening price during the period:  34.0\n"
     ]
    }
   ],
   "source": [
    "openmax = c_zeiss['dataset']['data'][0][1]      #initialising\n",
    "openmin = c_zeiss['dataset']['data'][0][1]      #initialising\n",
    "\n",
    "for lst in c_zeiss['dataset']['data']:\n",
    "    if not lst[1]:\n",
    "        continue\n",
    "    if lst[1]>openmax:\n",
    "        openmax=lst[1]\n",
    "    if lst[1]<openmin:\n",
    "        openmin=lst[1]\n",
    "print('Highest Opening price during the period: ', openmax)\n",
    "print('Lowest Opening price during the period: ', openmin)\n"
   ]
  },
  {
   "cell_type": "markdown",
   "metadata": {},
   "source": [
    "## Solution 4 - Finding the largest single day change (based on High & Low price)"
   ]
  },
  {
   "cell_type": "code",
   "execution_count": 8,
   "metadata": {},
   "outputs": [
    {
     "name": "stdout",
     "output_type": "stream",
     "text": [
      "Largest intra day change in price was:  2.8100000000000023\n"
     ]
    }
   ],
   "source": [
    "delta_intra = []\n",
    "for lst in c_zeiss['dataset']['data']:\n",
    "    delta_intra.append(lst[2]-lst[3])\n",
    "    \n",
    "   \n",
    "print('Largest intra day change in price was: ', max(delta_intra))"
   ]
  },
  {
   "cell_type": "markdown",
   "metadata": {},
   "source": [
    "## Solution 5 - Largest change between any two days (based on Closing Price)"
   ]
  },
  {
   "cell_type": "code",
   "execution_count": 9,
   "metadata": {},
   "outputs": [
    {
     "name": "stdout",
     "output_type": "stream",
     "text": [
      "<Response [200]> \n",
      "\n"
     ]
    }
   ],
   "source": [
    "#Taking fresh data extract using transform=diff parameter:\n",
    "\n",
    "\n",
    "url_diff = 'https://www.quandl.com/api/v3/datasets/FSE/AFX_X.json?start_date=2017-01-01&end_date=2017-12-31&transform=diff&api_key='+API_KEY\n",
    "\n",
    "r_diff = requests.get(url_diff)\n",
    "print(r_diff,'\\n')               #Checking valid response; Should be 200s or 300s.\n",
    "c_zeiss_diff=r_diff.json()\n",
    "\n"
   ]
  },
  {
   "cell_type": "code",
   "execution_count": 10,
   "metadata": {},
   "outputs": [
    {
     "name": "stdout",
     "output_type": "stream",
     "text": [
      "Largest change (up or down) in Closing Price on consecutive days:  2.56\n",
      "(Additionally, Smallest change (up or down) in Closing Price on consecutive days::  0.009999999999998 )\n"
     ]
    }
   ],
   "source": [
    "close_diff_max = abs(c_zeiss_diff['dataset']['data'][0][4])      #initialising\n",
    "close_diff_min = abs(c_zeiss_diff['dataset']['data'][0][4])      #initialising\n",
    "\n",
    "for lst in c_zeiss_diff['dataset']['data']:\n",
    "    if not lst[4]:\n",
    "        continue\n",
    "    if abs(lst[4])>close_diff_max:\n",
    "        close_diff_max=abs(lst[4])\n",
    "    if abs(lst[4])<close_diff_min:\n",
    "        close_diff_min=abs(lst[4])\n",
    "\n",
    "print('Largest change (up or down) in Closing Price on consecutive days: ', close_diff_max)\n",
    "print('(Additionally, Smallest change (up or down) in Closing Price on consecutive days:: ', close_diff_min, ')')\n",
    "\n"
   ]
  },
  {
   "cell_type": "markdown",
   "metadata": {},
   "source": [
    "## Solution 6 - Average daily trading volume during this year"
   ]
  },
  {
   "cell_type": "code",
   "execution_count": 11,
   "metadata": {},
   "outputs": [
    {
     "name": "stdout",
     "output_type": "stream",
     "text": [
      "Average daily trading volume for the period was:  89124.33725490196\n"
     ]
    }
   ],
   "source": [
    "trades_daily = []\n",
    "for lst in c_zeiss['dataset']['data']:\n",
    "    trades_daily.append(lst[6])\n",
    "\n",
    "avg=(sum(trades_daily))/(len(trades_daily))\n",
    "print('Average daily trading volume for the period was: ', avg)"
   ]
  },
  {
   "cell_type": "markdown",
   "metadata": {},
   "source": [
    "## Solution 7 - Median daily trading volume during this year"
   ]
  },
  {
   "cell_type": "code",
   "execution_count": 12,
   "metadata": {},
   "outputs": [],
   "source": [
    "def mediyan(nbr_list):\n",
    "    \"\"\"finds the median of values in a given list of numbers\"\"\"\n",
    "    if len(nbr_list)== 0:\n",
    "        return None\n",
    "    elif len(nbr_list)%2 != 0:\n",
    "        indx=int(len(nbr_list)/2)\n",
    "        return sorted(nbr_list)[indx]\n",
    "    else:\n",
    "        indx=int(len(nbr_list)/2)\n",
    "        return float((sorted(nbr_list)[indx]  +  sorted(nbr_list)[indx-1])/2)\n"
   ]
  },
  {
   "cell_type": "code",
   "execution_count": 13,
   "metadata": {},
   "outputs": [
    {
     "name": "stdout",
     "output_type": "stream",
     "text": [
      "Median daily trading volume for the period was:  76286.0\n"
     ]
    }
   ],
   "source": [
    "td=trades_daily.copy()\n",
    "print('Median daily trading volume for the period was: ', mediyan(td))"
   ]
  },
  {
   "cell_type": "code",
   "execution_count": null,
   "metadata": {},
   "outputs": [],
   "source": []
  },
  {
   "cell_type": "code",
   "execution_count": null,
   "metadata": {},
   "outputs": [],
   "source": []
  },
  {
   "cell_type": "code",
   "execution_count": null,
   "metadata": {},
   "outputs": [],
   "source": []
  }
 ],
 "metadata": {
  "kernelspec": {
   "display_name": "Python 3",
   "language": "python",
   "name": "python3"
  },
  "language_info": {
   "codemirror_mode": {
    "name": "ipython",
    "version": 3
   },
   "file_extension": ".py",
   "mimetype": "text/x-python",
   "name": "python",
   "nbconvert_exporter": "python",
   "pygments_lexer": "ipython3",
   "version": "3.7.4"
  }
 },
 "nbformat": 4,
 "nbformat_minor": 2
}
